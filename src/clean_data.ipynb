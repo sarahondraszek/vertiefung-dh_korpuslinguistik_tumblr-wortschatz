{
 "cells": [
  {
   "cell_type": "code",
   "execution_count": 1,
   "metadata": {
    "collapsed": true
   },
   "outputs": [],
   "source": [
    "import pandas as pd\n",
    "from bs4 import BeautifulSoup"
   ]
  },
  {
   "cell_type": "code",
   "execution_count": 3,
   "outputs": [],
   "source": [
    "df = pd.read_csv('../data/TumblrSearch-1669806226-essstörung.csv')\n",
    "i: int = 0\n",
    "\n",
    "for entry in df['body']:\n",
    "    try:\n",
    "        soup = BeautifulSoup(entry, features=\"html.parser\")\n",
    "        text = soup.get_text()\n",
    "        df.at[i, 'body'] = text\n",
    "    except TypeError:\n",
    "        continue\n",
    "\n",
    "    i += 1\n",
    "\n",
    "df.to_csv('../data/cleaned_tumblr_data.csv')"
   ],
   "metadata": {
    "collapsed": false
   }
  }
 ],
 "metadata": {
  "kernelspec": {
   "display_name": "Python 3",
   "language": "python",
   "name": "python3"
  },
  "language_info": {
   "codemirror_mode": {
    "name": "ipython",
    "version": 2
   },
   "file_extension": ".py",
   "mimetype": "text/x-python",
   "name": "python",
   "nbconvert_exporter": "python",
   "pygments_lexer": "ipython2",
   "version": "2.7.6"
  }
 },
 "nbformat": 4,
 "nbformat_minor": 0
}
